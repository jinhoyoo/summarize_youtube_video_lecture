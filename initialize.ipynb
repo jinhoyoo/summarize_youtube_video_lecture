{
 "cells": [
  {
   "cell_type": "markdown",
   "metadata": {},
   "source": [
    "# Initialize system"
   ]
  },
  {
   "cell_type": "code",
   "execution_count": 1,
   "metadata": {},
   "outputs": [
    {
     "name": "stdout",
     "output_type": "stream",
     "text": [
      "Requirement already satisfied: youtube-transcript-api==0.6.1 in /Users/jinhoyoo/.pyenv/versions/venvAI/lib/python3.11/site-packages (from -r requirements.txt (line 1)) (0.6.1)\n",
      "Requirement already satisfied: python-dotenv==1.0.0 in /Users/jinhoyoo/.pyenv/versions/venvAI/lib/python3.11/site-packages (from -r requirements.txt (line 2)) (1.0.0)\n",
      "Requirement already satisfied: openai==0.27.8 in /Users/jinhoyoo/.pyenv/versions/venvAI/lib/python3.11/site-packages (from -r requirements.txt (line 3)) (0.27.8)\n",
      "Requirement already satisfied: langchain==0.0.270 in /Users/jinhoyoo/.pyenv/versions/venvAI/lib/python3.11/site-packages (from -r requirements.txt (line 4)) (0.0.270)\n",
      "Requirement already satisfied: openai-whisper==20230314 in /Users/jinhoyoo/.pyenv/versions/venvAI/lib/python3.11/site-packages (from -r requirements.txt (line 5)) (20230314)\n",
      "Requirement already satisfied: yt-dlp==2023.7.6 in /Users/jinhoyoo/.pyenv/versions/venvAI/lib/python3.11/site-packages (from -r requirements.txt (line 6)) (2023.7.6)\n",
      "Requirement already satisfied: pydub==0.25.1 in /Users/jinhoyoo/.pyenv/versions/venvAI/lib/python3.11/site-packages (from -r requirements.txt (line 7)) (0.25.1)\n",
      "Requirement already satisfied: termcolor==2.3.0 in /Users/jinhoyoo/.pyenv/versions/venvAI/lib/python3.11/site-packages (from -r requirements.txt (line 8)) (2.3.0)\n",
      "Requirement already satisfied: tiktoken==0.3.1 in /Users/jinhoyoo/.pyenv/versions/venvAI/lib/python3.11/site-packages (from -r requirements.txt (line 9)) (0.3.1)\n",
      "Requirement already satisfied: requests in /Users/jinhoyoo/.pyenv/versions/venvAI/lib/python3.11/site-packages (from youtube-transcript-api==0.6.1->-r requirements.txt (line 1)) (2.31.0)\n",
      "Requirement already satisfied: tqdm in /Users/jinhoyoo/.pyenv/versions/venvAI/lib/python3.11/site-packages (from openai==0.27.8->-r requirements.txt (line 3)) (4.65.0)\n",
      "Requirement already satisfied: aiohttp in /Users/jinhoyoo/.pyenv/versions/venvAI/lib/python3.11/site-packages (from openai==0.27.8->-r requirements.txt (line 3)) (3.8.4)\n",
      "Requirement already satisfied: PyYAML>=5.3 in /Users/jinhoyoo/.pyenv/versions/venvAI/lib/python3.11/site-packages (from langchain==0.0.270->-r requirements.txt (line 4)) (6.0.1)\n",
      "Requirement already satisfied: SQLAlchemy<3,>=1.4 in /Users/jinhoyoo/.pyenv/versions/venvAI/lib/python3.11/site-packages (from langchain==0.0.270->-r requirements.txt (line 4)) (2.0.19)\n",
      "Requirement already satisfied: dataclasses-json<0.6.0,>=0.5.7 in /Users/jinhoyoo/.pyenv/versions/venvAI/lib/python3.11/site-packages (from langchain==0.0.270->-r requirements.txt (line 4)) (0.5.12)\n",
      "Requirement already satisfied: langsmith<0.1.0,>=0.0.21 in /Users/jinhoyoo/.pyenv/versions/venvAI/lib/python3.11/site-packages (from langchain==0.0.270->-r requirements.txt (line 4)) (0.0.25)\n",
      "Requirement already satisfied: numexpr<3.0.0,>=2.8.4 in /Users/jinhoyoo/.pyenv/versions/venvAI/lib/python3.11/site-packages (from langchain==0.0.270->-r requirements.txt (line 4)) (2.8.4)\n",
      "Requirement already satisfied: numpy<2,>=1 in /Users/jinhoyoo/.pyenv/versions/venvAI/lib/python3.11/site-packages (from langchain==0.0.270->-r requirements.txt (line 4)) (1.24.4)\n",
      "Requirement already satisfied: pydantic<3,>=1 in /Users/jinhoyoo/.pyenv/versions/venvAI/lib/python3.11/site-packages (from langchain==0.0.270->-r requirements.txt (line 4)) (1.10.11)\n",
      "Requirement already satisfied: tenacity<9.0.0,>=8.1.0 in /Users/jinhoyoo/.pyenv/versions/venvAI/lib/python3.11/site-packages (from langchain==0.0.270->-r requirements.txt (line 4)) (8.2.2)\n",
      "Requirement already satisfied: numba in /Users/jinhoyoo/.pyenv/versions/venvAI/lib/python3.11/site-packages (from openai-whisper==20230314->-r requirements.txt (line 5)) (0.57.1)\n",
      "Requirement already satisfied: torch in /Users/jinhoyoo/.pyenv/versions/venvAI/lib/python3.11/site-packages (from openai-whisper==20230314->-r requirements.txt (line 5)) (2.0.1)\n",
      "Requirement already satisfied: more-itertools in /Users/jinhoyoo/.pyenv/versions/venvAI/lib/python3.11/site-packages (from openai-whisper==20230314->-r requirements.txt (line 5)) (10.0.0)\n",
      "Requirement already satisfied: ffmpeg-python==0.2.0 in /Users/jinhoyoo/.pyenv/versions/venvAI/lib/python3.11/site-packages (from openai-whisper==20230314->-r requirements.txt (line 5)) (0.2.0)\n",
      "Requirement already satisfied: mutagen in /Users/jinhoyoo/.pyenv/versions/venvAI/lib/python3.11/site-packages (from yt-dlp==2023.7.6->-r requirements.txt (line 6)) (1.46.0)\n",
      "Requirement already satisfied: pycryptodomex in /Users/jinhoyoo/.pyenv/versions/venvAI/lib/python3.11/site-packages (from yt-dlp==2023.7.6->-r requirements.txt (line 6)) (3.18.0)\n",
      "Requirement already satisfied: websockets in /Users/jinhoyoo/.pyenv/versions/venvAI/lib/python3.11/site-packages (from yt-dlp==2023.7.6->-r requirements.txt (line 6)) (11.0.3)\n",
      "Requirement already satisfied: certifi in /Users/jinhoyoo/.pyenv/versions/venvAI/lib/python3.11/site-packages (from yt-dlp==2023.7.6->-r requirements.txt (line 6)) (2023.5.7)\n",
      "Requirement already satisfied: brotli in /Users/jinhoyoo/.pyenv/versions/venvAI/lib/python3.11/site-packages (from yt-dlp==2023.7.6->-r requirements.txt (line 6)) (1.0.9)\n",
      "Requirement already satisfied: regex>=2022.1.18 in /Users/jinhoyoo/.pyenv/versions/venvAI/lib/python3.11/site-packages (from tiktoken==0.3.1->-r requirements.txt (line 9)) (2023.6.3)\n",
      "Requirement already satisfied: future in /Users/jinhoyoo/.pyenv/versions/venvAI/lib/python3.11/site-packages (from ffmpeg-python==0.2.0->openai-whisper==20230314->-r requirements.txt (line 5)) (0.18.3)\n",
      "Requirement already satisfied: attrs>=17.3.0 in /Users/jinhoyoo/.pyenv/versions/venvAI/lib/python3.11/site-packages (from aiohttp->openai==0.27.8->-r requirements.txt (line 3)) (23.1.0)\n",
      "Requirement already satisfied: charset-normalizer<4.0,>=2.0 in /Users/jinhoyoo/.pyenv/versions/venvAI/lib/python3.11/site-packages (from aiohttp->openai==0.27.8->-r requirements.txt (line 3)) (3.2.0)\n",
      "Requirement already satisfied: multidict<7.0,>=4.5 in /Users/jinhoyoo/.pyenv/versions/venvAI/lib/python3.11/site-packages (from aiohttp->openai==0.27.8->-r requirements.txt (line 3)) (6.0.4)\n",
      "Requirement already satisfied: async-timeout<5.0,>=4.0.0a3 in /Users/jinhoyoo/.pyenv/versions/venvAI/lib/python3.11/site-packages (from aiohttp->openai==0.27.8->-r requirements.txt (line 3)) (4.0.2)\n",
      "Requirement already satisfied: yarl<2.0,>=1.0 in /Users/jinhoyoo/.pyenv/versions/venvAI/lib/python3.11/site-packages (from aiohttp->openai==0.27.8->-r requirements.txt (line 3)) (1.9.2)\n",
      "Requirement already satisfied: frozenlist>=1.1.1 in /Users/jinhoyoo/.pyenv/versions/venvAI/lib/python3.11/site-packages (from aiohttp->openai==0.27.8->-r requirements.txt (line 3)) (1.4.0)\n",
      "Requirement already satisfied: aiosignal>=1.1.2 in /Users/jinhoyoo/.pyenv/versions/venvAI/lib/python3.11/site-packages (from aiohttp->openai==0.27.8->-r requirements.txt (line 3)) (1.3.1)\n",
      "Requirement already satisfied: marshmallow<4.0.0,>=3.18.0 in /Users/jinhoyoo/.pyenv/versions/venvAI/lib/python3.11/site-packages (from dataclasses-json<0.6.0,>=0.5.7->langchain==0.0.270->-r requirements.txt (line 4)) (3.19.0)\n",
      "Requirement already satisfied: typing-inspect<1,>=0.4.0 in /Users/jinhoyoo/.pyenv/versions/venvAI/lib/python3.11/site-packages (from dataclasses-json<0.6.0,>=0.5.7->langchain==0.0.270->-r requirements.txt (line 4)) (0.9.0)\n",
      "Requirement already satisfied: typing-extensions>=4.2.0 in /Users/jinhoyoo/.pyenv/versions/venvAI/lib/python3.11/site-packages (from pydantic<3,>=1->langchain==0.0.270->-r requirements.txt (line 4)) (4.7.1)\n",
      "Requirement already satisfied: idna<4,>=2.5 in /Users/jinhoyoo/.pyenv/versions/venvAI/lib/python3.11/site-packages (from requests->youtube-transcript-api==0.6.1->-r requirements.txt (line 1)) (3.4)\n",
      "Requirement already satisfied: urllib3<3,>=1.21.1 in /Users/jinhoyoo/.pyenv/versions/venvAI/lib/python3.11/site-packages (from requests->youtube-transcript-api==0.6.1->-r requirements.txt (line 1)) (2.0.3)\n",
      "Requirement already satisfied: llvmlite<0.41,>=0.40.0dev0 in /Users/jinhoyoo/.pyenv/versions/venvAI/lib/python3.11/site-packages (from numba->openai-whisper==20230314->-r requirements.txt (line 5)) (0.40.1)\n",
      "Requirement already satisfied: filelock in /Users/jinhoyoo/.pyenv/versions/venvAI/lib/python3.11/site-packages (from torch->openai-whisper==20230314->-r requirements.txt (line 5)) (3.12.2)\n",
      "Requirement already satisfied: sympy in /Users/jinhoyoo/.pyenv/versions/venvAI/lib/python3.11/site-packages (from torch->openai-whisper==20230314->-r requirements.txt (line 5)) (1.12)\n",
      "Requirement already satisfied: networkx in /Users/jinhoyoo/.pyenv/versions/venvAI/lib/python3.11/site-packages (from torch->openai-whisper==20230314->-r requirements.txt (line 5)) (3.1)\n",
      "Requirement already satisfied: jinja2 in /Users/jinhoyoo/.pyenv/versions/venvAI/lib/python3.11/site-packages (from torch->openai-whisper==20230314->-r requirements.txt (line 5)) (3.1.2)\n",
      "Requirement already satisfied: packaging>=17.0 in /Users/jinhoyoo/.pyenv/versions/venvAI/lib/python3.11/site-packages (from marshmallow<4.0.0,>=3.18.0->dataclasses-json<0.6.0,>=0.5.7->langchain==0.0.270->-r requirements.txt (line 4)) (23.1)\n",
      "Requirement already satisfied: mypy-extensions>=0.3.0 in /Users/jinhoyoo/.pyenv/versions/venvAI/lib/python3.11/site-packages (from typing-inspect<1,>=0.4.0->dataclasses-json<0.6.0,>=0.5.7->langchain==0.0.270->-r requirements.txt (line 4)) (1.0.0)\n",
      "Requirement already satisfied: MarkupSafe>=2.0 in /Users/jinhoyoo/.pyenv/versions/venvAI/lib/python3.11/site-packages (from jinja2->torch->openai-whisper==20230314->-r requirements.txt (line 5)) (2.1.3)\n",
      "Requirement already satisfied: mpmath>=0.19 in /Users/jinhoyoo/.pyenv/versions/venvAI/lib/python3.11/site-packages (from sympy->torch->openai-whisper==20230314->-r requirements.txt (line 5)) (1.3.0)\n",
      "\n",
      "\u001b[1m[\u001b[0m\u001b[34;49mnotice\u001b[0m\u001b[1;39;49m]\u001b[0m\u001b[39;49m A new release of pip is available: \u001b[0m\u001b[31;49m23.2.1\u001b[0m\u001b[39;49m -> \u001b[0m\u001b[32;49m23.3.1\u001b[0m\n",
      "\u001b[1m[\u001b[0m\u001b[34;49mnotice\u001b[0m\u001b[1;39;49m]\u001b[0m\u001b[39;49m To update, run: \u001b[0m\u001b[32;49mpython3.11 -m pip install --upgrade pip\u001b[0m\n"
     ]
    }
   ],
   "source": [
    "! pip install -r requirements.txt"
   ]
  }
 ],
 "metadata": {
  "kernelspec": {
   "display_name": "venvAI",
   "language": "python",
   "name": "python3"
  },
  "language_info": {
   "codemirror_mode": {
    "name": "ipython",
    "version": 3
   },
   "file_extension": ".py",
   "mimetype": "text/x-python",
   "name": "python",
   "nbconvert_exporter": "python",
   "pygments_lexer": "ipython3",
   "version": "3.11.4"
  }
 },
 "nbformat": 4,
 "nbformat_minor": 2
}
