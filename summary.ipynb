{
 "cells": [
  {
   "attachments": {},
   "cell_type": "markdown",
   "metadata": {},
   "source": [
    "\n",
    "# Summarize Youtube video lecture \n",
    "- Summarize Youtube's script by chapter creater configured. \n",
    "  - Create `markdown_note.md` with script and summary.\n",
    "- Use [youtube-transcript-api](https://pypi.org/project/youtube-transcript-api/), [langchain](https://github.com/hwchase17/langchain), and [OpenAI](https://github.com/openai/openai-python) package. \n"
   ]
  },
  {
   "attachments": {},
   "cell_type": "markdown",
   "metadata": {},
   "source": [
    "## Input variables"
   ]
  },
  {
   "cell_type": "code",
   "execution_count": 1,
   "metadata": {},
   "outputs": [],
   "source": [
    "# Youtube video ID\n",
    "youtube_video_id=\"FXj2jvBWuSM\"\n",
    "\n",
    "# Language of subscription \n",
    "language = \"ko\"\n",
    "\n",
    "# LLM: Recommended parameters for my testing. \n",
    "max_token = 3000\n",
    "model = \"gpt-3.5-turbo\"\n",
    "chunk_size = 900\n",
    "chunk_overlap = 50\n",
    "\n",
    "# Officially no way to get chapter automatically, \n",
    "# so copy and paste the time stamp and chapter in description of Youtube video.\n",
    "\n",
    "chapter_part_in_description = \"\"\"\n",
    "00:00:50 이론이란 무엇인가?\n",
    "00:08:27 인간이란 무엇인가?\n",
    "00:34:14 우리 사회에서 가장 큰 문제는 무엇인가?\n",
    "00:40:03 상식(패러다임)에 대하여\n",
    "00:45:48 패러다임의 변화\n",
    "00:49:43 인간과 조직을 바라보는 두 개의 패러다임\n",
    "01:08:25 정치의 역할을 무엇인가?\n",
    "\"\"\""
   ]
  },
  {
   "cell_type": "code",
   "execution_count": 2,
   "metadata": {},
   "outputs": [],
   "source": [
    "# Officially no way to get chapter automatically, \n",
    "# so we need to parse the text in description and set up the dictionary \n",
    "# [ (time_in_sec, chapter_title) ]\n",
    "import re \n",
    "pattern = r'(\\d+(:\\d+){1,2})\\s(.+)'\n",
    "matches = re.findall(pattern, chapter_part_in_description)\n",
    "\n",
    "def time_to_seconds(time):\n",
    "    parts = time.split(':')\n",
    "    seconds = int(parts[-1])\n",
    "    minutes = int(parts[-2]) if len(parts) > 1 else 0\n",
    "    hours = int(parts[-3]) if len(parts) > 2 else 0\n",
    "    return hours * 3600 + minutes * 60 + seconds\n",
    "\n",
    "chapters = [(time_to_seconds(time), title.strip()) for time, _, title in matches]\n"
   ]
  },
  {
   "attachments": {},
   "cell_type": "markdown",
   "metadata": {},
   "source": [
    "# Build up note with chapter and script under each chapter "
   ]
  },
  {
   "cell_type": "code",
   "execution_count": 3,
   "metadata": {},
   "outputs": [],
   "source": [
    "from collections import deque\n",
    "from youtube_transcript_api import YouTubeTranscriptApi\n",
    "\n",
    "# Populate the script of YouTube video\n",
    "data = YouTubeTranscriptApi.get_transcripts([youtube_video_id], languages=[language])\n",
    "script_data = deque( data[0][youtube_video_id] )\n",
    "\n",
    "\n",
    "# Put the script under each chatpter\n",
    "# [ \n",
    "#   { \n",
    "#    \"title\": current_title,\n",
    "#    \"script\": script_in_chapter\n",
    "#    } ....\n",
    "#  ]\n",
    "\n",
    "script_by_chapter = []\n",
    "\n",
    "script_in_chapter = \"\"\n",
    "for i in range( len(chapters) ):\n",
    "    current_time_in_sec, current_title = chapters[i]\n",
    "    next_time_in_sec, next_title = chapters[i + 1] if i + 1 < len(chapters) else (None, None)\n",
    "\n",
    "    if len(script_data) == 0:\n",
    "        break\n",
    "\n",
    "    s = script_data.popleft()\n",
    "    end_time_of_script_in_sec = int( s['start'] + s['duration'] )\n",
    "\n",
    "    if next_time_in_sec is not None:\n",
    "        \n",
    "        while end_time_of_script_in_sec < next_time_in_sec:\n",
    "            script_in_chapter += s['text']\n",
    "            script_in_chapter += \" \"\n",
    "            s = script_data.popleft()\n",
    "            end_time_of_script_in_sec = int( s['start'] + s['duration'] )\n",
    "\n",
    "        chapter_data = { \n",
    "                        \"title\": current_title,\n",
    "                        \"script\": script_in_chapter\n",
    "                        }\n",
    "        \n",
    "        script_by_chapter.append(chapter_data)\n",
    "        script_in_chapter = \"\"        \n",
    "\n",
    "    else:\n",
    "        script_in_chapter = \"\"\n",
    "\n",
    "        while len(script_data) > 0 :\n",
    "            script_in_chapter += s['text']\n",
    "            script_in_chapter += \" \"\n",
    "            s = script_data.popleft()\n",
    "            end_time_of_script_in_sec = int( s['start'] + s['duration'] )\n",
    "\n",
    "        chapter_data = { \n",
    "                        \"title\": current_title,\n",
    "                        \"script\": script_in_chapter,\n",
    "                        \"summary\" : \"\"\n",
    "                        }\n",
    "        \n",
    "        script_by_chapter.append(chapter_data)\n",
    "\n"
   ]
  },
  {
   "cell_type": "code",
   "execution_count": 4,
   "metadata": {},
   "outputs": [],
   "source": [
    "\n",
    "# Temporary save data into file \n",
    "import os \n",
    "import json \n",
    "\n",
    "with open( \"temp_script_by_chapter.json\", \"w\") as file:\n",
    "    file.write( json.dumps(script_by_chapter, indent=2, ensure_ascii=False) )\n"
   ]
  },
  {
   "attachments": {},
   "cell_type": "markdown",
   "metadata": {},
   "source": [
    "# Write note by summarizing contents\n"
   ]
  },
  {
   "cell_type": "code",
   "execution_count": 5,
   "metadata": {},
   "outputs": [
    {
     "data": {
      "text/plain": [
       "True"
      ]
     },
     "execution_count": 5,
     "metadata": {},
     "output_type": "execute_result"
    }
   ],
   "source": [
    "# Setup OpenAI API key \n",
    "from dotenv import load_dotenv\n",
    "\n",
    "load_dotenv()"
   ]
  },
  {
   "cell_type": "code",
   "execution_count": 6,
   "metadata": {},
   "outputs": [],
   "source": [
    "import openai\n",
    "\n",
    "def summarize_text_with_gpt3(text, max_token=3000, model=\"gpt-3.5-turbo\", languages=\"ko\"):\n",
    "\n",
    "    prompt = f\"\"\"\n",
    "        네가 대학생이고 아래 문장을 요약해서 노트를 만든다고 하자. 최대한 저자의 의도와 문장을 살려서 \n",
    "        bulletin point를 붙여서 요약/정리해줘. 무언가 문장에 이상한 단어가 나오면 () 로 표시해줘.\n",
    "        ----------\n",
    "        {text}\n",
    "        \"\"\"\n",
    "    # prompt = f\"Summarize following text with bulletin points in Korean:\\n{text}\"\n",
    "    response = openai.ChatCompletion.create(\n",
    "        model=model,\n",
    "        messages=[\n",
    "            {\"role\": \"system\", \"content\": \"You are a helpful assistant.\"},\n",
    "            {\"role\": \"user\", \"content\": prompt}\n",
    "        ],\n",
    "        max_tokens=max_token\n",
    "    )\n",
    "\n",
    "    corrected_text = response.choices[0].message.content\n",
    "    return corrected_text"
   ]
  },
  {
   "cell_type": "code",
   "execution_count": 7,
   "metadata": {},
   "outputs": [],
   "source": [
    "\n",
    "from langchain.text_splitter import RecursiveCharacterTextSplitter\n",
    "\n",
    "text_splitter = RecursiveCharacterTextSplitter(\n",
    "    chunk_size = chunk_size,\n",
    "    chunk_overlap  = chunk_overlap,\n",
    "    length_function = len\n",
    ")\n"
   ]
  },
  {
   "cell_type": "code",
   "execution_count": 8,
   "metadata": {},
   "outputs": [
    {
     "name": "stdout",
     "output_type": "stream",
     "text": [
      "Chapter 이론이란 무엇인가? is in-pro. \n",
      "....\n",
      "\n",
      "Chapter 인간이란 무엇인가? is in-pro. \n",
      "...........\n",
      "\n",
      "Chapter 우리 사회에서 가장 큰 문제는 무엇인가? is in-pro. \n",
      "...\n",
      "\n",
      "Chapter 상식(패러다임)에 대하여 is in-pro. \n",
      "...\n",
      "\n",
      "Chapter 패러다임의 변화 is in-pro. \n",
      "..\n",
      "\n",
      "Chapter 인간과 조직을 바라보는 두 개의 패러다임 is in-pro. \n",
      "........\n",
      "\n",
      "Chapter 정치의 역할을 무엇인가? is in-pro. \n",
      "...\n",
      "\n"
     ]
    }
   ],
   "source": [
    "import time\n",
    "\n",
    "# Summarize each chapter \n",
    "for c in script_by_chapter:\n",
    "    texts = text_splitter.split_text(c[\"script\"])\n",
    "\n",
    "    title = c[\"title\"]\n",
    "    print( f\"Chapter {title} is in-pro. \")\n",
    "    \n",
    "    summarized_text = \"\"\n",
    "    for t in texts:\n",
    "        time.sleep(0.05) # Avoid the bad request error. \n",
    "        partial_summary = summarize_text_with_gpt3(t, max_token = max_token, model = model)\n",
    "        summarized_text += partial_summary\n",
    "        print( \".\", end=\"\")\n",
    "\n",
    "    c[\"summary\"] = summarized_text\n",
    "    print('\\n')\n",
    "    time.sleep(0.5) # Avoid the bad request error. \n"
   ]
  },
  {
   "attachments": {},
   "cell_type": "markdown",
   "metadata": {},
   "source": [
    "## Publish markdown document\n",
    "\n",
    "Find `markdown_note.md`. This is the summarized note for this Youtube video. "
   ]
  },
  {
   "cell_type": "code",
   "execution_count": 9,
   "metadata": {},
   "outputs": [],
   "source": [
    "with open( \"script_by_chapter.json\", \"w\") as file:\n",
    "    file.write( json.dumps(script_by_chapter, indent=2, ensure_ascii=False) )\n"
   ]
  },
  {
   "cell_type": "code",
   "execution_count": 10,
   "metadata": {},
   "outputs": [],
   "source": [
    "full_markdown_text = \"\"\n",
    "\n",
    "for c in script_by_chapter:\n",
    "    full_markdown_text += f\"# {c['title']} \\n\\n\"\n",
    "    full_markdown_text += f\"## Summary \\n\"\n",
    "    full_markdown_text += f\"{c['summary']} \\n\\n\"\n",
    "    full_markdown_text += f\"## Script \\n\\n\"\n",
    "    full_markdown_text += f\"{c['script']} \\n\"\n",
    "    full_markdown_text += \"\\n\\n\""
   ]
  },
  {
   "cell_type": "code",
   "execution_count": 11,
   "metadata": {},
   "outputs": [],
   "source": [
    "\n",
    "# Write markdown document for note.\n",
    "with open( \"markdown_note.md\", \"w\") as file:\n",
    "    file.write(full_markdown_text)"
   ]
  }
 ],
 "metadata": {
  "kernelspec": {
   "display_name": "venvAI",
   "language": "python",
   "name": "python3"
  },
  "language_info": {
   "codemirror_mode": {
    "name": "ipython",
    "version": 3
   },
   "file_extension": ".py",
   "mimetype": "text/x-python",
   "name": "python",
   "nbconvert_exporter": "python",
   "pygments_lexer": "ipython3",
   "version": "3.11.1"
  },
  "orig_nbformat": 4
 },
 "nbformat": 4,
 "nbformat_minor": 2
}
