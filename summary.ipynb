{
 "cells": [
  {
   "attachments": {},
   "cell_type": "markdown",
   "metadata": {},
   "source": [
    "\n",
    "# Summarize Youtube video lecture \n",
    "- Summarize Youtube's script by chapter creater configured. \n",
    "  - Create `markdown_note.md` with script and summary.\n",
    "- Use [yt-dlp](https://pypi.org/project/yt-dlp/), [pydub](https://pypi.org/project/pydub/), [OpenAI-Whisper](https://pypi.org/project/openai-whisper/), [langchain](https://github.com/hwchase17/langchain), and [OpenAI](https://github.com/openai/openai-python) package. \n"
   ]
  },
  {
   "attachments": {},
   "cell_type": "markdown",
   "metadata": {},
   "source": [
    "## Install dependency"
   ]
  },
  {
   "cell_type": "code",
   "execution_count": null,
   "metadata": {},
   "outputs": [],
   "source": [
    "# Install libav and ffmpeg. \n",
    "! brew install ffmpeg \n",
    "\n",
    "# For linux (aptitude)\n",
    "# apt-get install libav-tools libavcodec-extra ffmpeg\n",
    "\n",
    "# install package \n",
    "! pip install -r requirements.txt"
   ]
  },
  {
   "attachments": {},
   "cell_type": "markdown",
   "metadata": {},
   "source": [
    "## Input variables"
   ]
  },
  {
   "cell_type": "code",
   "execution_count": null,
   "metadata": {},
   "outputs": [],
   "source": [
    "# Youtube video ID\n",
    "youtube_video_id=\"Lq5a1inNCzw\"\n",
    "\n",
    "# Language of subscription \n",
    "language = \"ko\"\n",
    "\n",
    "\n",
    "# Officially no way to get chapter automatically, \n",
    "# so copy and paste the time stamp and chapter in description of Youtube video.\n",
    "# CAUTION: Timestamp 00:00 must be defined! \n",
    "chapter_part_in_description = \"\"\"\n",
    "00:00 시작\n",
    "02:33 댓글 읽어보기\n",
    "10:00 댓글 읽어보기-2\n",
    "20:00 댓글 읽어보기-3\n",
    "30:00 댓글 읽어보기-4\n",
    "51:30 서울양평고속도로 무단 종점변경에 대한 세 가지 질문(한준호 의원)\n",
    "54:35 양평군수 전진선의 행태\n",
    "1:04:45 사실부합성의 조건을 어떻게 충족시킬 것인가?\n",
    "1:17:12 이소영 의원의 설명을 들어보자(분석적, 개념적 사고)\n",
    "1:40:24 진리에 근거한 인재평가의 프레임워크\n",
    "1:44:00 자아(Ego)와 자기(Self), 자기기만\n",
    "1:51:10 정리\n",
    "\"\"\""
   ]
  },
  {
   "cell_type": "code",
   "execution_count": null,
   "metadata": {},
   "outputs": [],
   "source": [
    "# Officially no way to get chapter automatically, \n",
    "# so we need to parse the text in description and set up the dictionary \n",
    "# [ (time_in_sec, chapter_title) ]\n",
    "import re \n",
    "pattern = r'(\\d+(:\\d+){1,2})\\s(.+)'\n",
    "matches = re.findall(pattern, chapter_part_in_description)\n",
    "\n",
    "def time_to_seconds(time):\n",
    "    parts = time.split(':')\n",
    "    seconds = int(parts[-1])\n",
    "    minutes = int(parts[-2]) if len(parts) > 1 else 0\n",
    "    hours = int(parts[-3]) if len(parts) > 2 else 0\n",
    "    return hours * 3600 + minutes * 60 + seconds\n",
    "\n",
    "chapters = [(time_to_seconds(time), title.strip()) for time, _, title in matches]\n"
   ]
  },
  {
   "attachments": {},
   "cell_type": "markdown",
   "metadata": {},
   "source": [
    "# Build up note with chapter and script under each chapter "
   ]
  },
  {
   "cell_type": "code",
   "execution_count": null,
   "metadata": {},
   "outputs": [],
   "source": [
    "import yt_dlp\n",
    "\n",
    "# Download youtube video and extract audio file. \n",
    "def download(video_id: str) -> str:\n",
    "    video_url = f'https://www.youtube.com/watch?v={video_id}'\n",
    "    ydl_opts = {\n",
    "        'format': 'm4a/bestaudio/best',\n",
    "        'paths': {'home': 'audio/'},\n",
    "        'outtmpl': {'default': '%(id)s.%(ext)s'},\n",
    "        'postprocessors': [{\n",
    "            'key': 'FFmpegExtractAudio',\n",
    "            'preferredcodec': 'mp3',\n",
    "        }]\n",
    "    }\n",
    "    with yt_dlp.YoutubeDL(ydl_opts) as ydl:\n",
    "        error_code = ydl.download([video_url])\n",
    "        if error_code != 0:\n",
    "            raise Exception('Failed to download video')\n",
    "\n",
    "    return f'audio/{video_id}.mp3'\n",
    "\n",
    "file_path = download(youtube_video_id)\n",
    "\n"
   ]
  },
  {
   "cell_type": "code",
   "execution_count": null,
   "metadata": {},
   "outputs": [],
   "source": [
    "\n",
    "from langchain.text_splitter import RecursiveCharacterTextSplitter\n",
    "\n",
    "chunk_size = 800\n",
    "text_splitter = RecursiveCharacterTextSplitter(\n",
    "    chunk_size = chunk_size,\n",
    "    chunk_overlap  = 0,\n",
    "    length_function = len\n",
    ")\n"
   ]
  },
  {
   "cell_type": "code",
   "execution_count": null,
   "metadata": {},
   "outputs": [],
   "source": [
    "# split audio file\n",
    "import time\n",
    "from pydub import AudioSegment\n",
    "\n",
    "audio_data = AudioSegment.from_mp3(file_path)\n",
    "\n",
    "for i in range( len(chapters) ):\n",
    "    current_time_in_sec, current_title = chapters[i]\n",
    "    next_time_in_sec, next_title = chapters[i + 1] if i + 1 < len(chapters) else (None, None)\n",
    "\n",
    "    current_time_in_ms = current_time_in_sec * 1000\n",
    "    next_time_in_ms = next_time_in_sec * 1000 if next_time_in_sec is not None else 0\n",
    "\n",
    "    if next_time_in_sec:\n",
    "        splitted_audio_data = audio_data[current_time_in_ms:next_time_in_ms]\n",
    "    else:\n",
    "        splitted_audio_data = audio_data[current_time_in_ms:]\n",
    "\n",
    "    splitted_audio_data.export(f'audio/{i}.mp3' , format=\"mp3\")"
   ]
  },
  {
   "cell_type": "code",
   "execution_count": null,
   "metadata": {},
   "outputs": [],
   "source": [
    "# Transcribe the text from audio files.\n",
    "from datetime import datetime\n",
    "import os\n",
    "import whisper\n",
    "from dotenv import load_dotenv\n",
    "\n",
    "# Setup OpenAI API key \n",
    "load_dotenv()\n",
    "\n",
    "# Prepare the file path for text\n",
    "text_file_folder_path = os.path.join( os.getcwd(), 'text')\n",
    "if not os.path.exists( text_file_folder_path ):\n",
    "    os.makedirs(text_file_folder_path) \n",
    "\n",
    "\n",
    "# You can adjust the model used here. Model choice is typically a tradeoff between accuracy and speed.\n",
    "# All available models are located at https://github.com/openai/whisper/#available-models-and-languages.\n",
    "whisper_model = whisper.load_model(\"small\")\n",
    "\n",
    "script_by_chapter = []\n",
    "def transcribe(file_path: str) -> str:\n",
    "    # `fp16` defaults to `True`, which tells the model to attempt to run on GPU.\n",
    "    # For local demonstration purposes, we'll run this on the CPU by setting it to `False`.\n",
    "    transcription = whisper_model.transcribe(file_path, fp16=False)\n",
    "    return transcription['text'] # type: ignore\n",
    "\n",
    "for i in range( len(chapters) ):\n",
    "    current_time_in_sec, current_title = chapters[i]\n",
    "    print( f'{datetime.now()} : {current_title} is transcripting... \\n' )\n",
    "    audio_file_path = os.path.join( os.getcwd(), 'audio', f'{i}.mp3' )\n",
    "    transcript = transcribe(audio_file_path)\n",
    "\n",
    "    chapter_data = { \n",
    "                \"title\": current_title,\n",
    "                \"script\": transcript,\n",
    "                \"summary\" : \"\"\n",
    "                }\n",
    "    \n",
    "    script_by_chapter.append(chapter_data)\n",
    "\n",
    "    # Save transcript file\n",
    "    text_file = os.path.join(text_file_folder_path, f'{i}.txt')\n",
    "    with open( text_file, \"w\") as file:\n",
    "        file.write(chapter_data[\"script\"])\n",
    "\n"
   ]
  },
  {
   "cell_type": "code",
   "execution_count": null,
   "metadata": {},
   "outputs": [],
   "source": [
    "\n",
    "# Temporary save data into file \n",
    "import os \n",
    "import json \n",
    "\n",
    "with open( \"temp_script_by_chapter.json\", \"w\") as file:\n",
    "    file.write( json.dumps(script_by_chapter, indent=2, ensure_ascii=False) )\n"
   ]
  },
  {
   "attachments": {},
   "cell_type": "markdown",
   "metadata": {},
   "source": [
    "# Write note by summarizing contents\n"
   ]
  },
  {
   "cell_type": "code",
   "execution_count": null,
   "metadata": {},
   "outputs": [],
   "source": [
    "import os\n",
    "import llm\n",
    "\n",
    "\n",
    "# Prepare the file path for text\n",
    "text_file_folder_path = os.path.join( os.getcwd(), 'text')\n",
    "\n",
    "# Create temporary folder to store note\n",
    "note_file_folder_path = os.path.join( os.getcwd(), 'note')\n",
    "if not os.path.exists( note_file_folder_path ):\n",
    "    os.makedirs(note_file_folder_path) \n",
    "\n",
    "\n",
    "# Summarize each chapter\n",
    "index = 0\n",
    "for index, c in enumerate(script_by_chapter):\n",
    "\n",
    "    transcript = \"\"\n",
    "    # Read text data from file.\n",
    "    with open( os.path.join(text_file_folder_path, f'{index}.txt'), \"r\" ) as file:\n",
    "        transcript = file.read()\n",
    "\n",
    "\n",
    "    # Log\n",
    "    title = c[\"title\"]\n",
    "    print( f\"Chapter {title} is processing..\")\n",
    "\n",
    "\n",
    "    # Split script\n",
    "    texts = text_splitter.split_text(transcript)\n",
    "\n",
    "    # Summarize the text \n",
    "    summarized_text = \"\"\n",
    "    for t in texts:        \n",
    "        partial_summary = llm.rectify_and_summarize_text(t)\n",
    "        summarized_text += partial_summary\n",
    "        print( \".\", end=\"\")\n",
    "\n",
    "    c[\"summary\"] = summarized_text\n",
    "\n",
    "    # Save note into file\n",
    "    text_file = os.path.join(note_file_folder_path, f'{index}.txt')\n",
    "    with open( text_file, \"w\") as file:\n",
    "        file.write(summarized_text)\n",
    "    index += 1\n",
    "\n",
    "    print('\\n')\n",
    "\n"
   ]
  },
  {
   "attachments": {},
   "cell_type": "markdown",
   "metadata": {},
   "source": [
    "## Publish markdown document\n",
    "\n",
    "Will write down all contents into `markdown_note.md`. This is the summarized note for this Youtube video. "
   ]
  },
  {
   "cell_type": "code",
   "execution_count": null,
   "metadata": {},
   "outputs": [],
   "source": [
    "import os\n",
    "\n",
    "# Remove temporary data\n",
    "os.remove(\"temp_script_by_chapter.json\")\n",
    "\n",
    "# Save chapter data into file \n",
    "with open( \"script_by_chapter.json\", \"w\") as file:\n",
    "    file.write( json.dumps(script_by_chapter, indent=2, ensure_ascii=False) )\n"
   ]
  },
  {
   "cell_type": "code",
   "execution_count": null,
   "metadata": {},
   "outputs": [],
   "source": [
    "full_markdown_text = \"\"\n",
    "\n",
    "for c in script_by_chapter:\n",
    "    full_markdown_text += f\"# {c['title']} \\n\\n\"\n",
    "    full_markdown_text += f\"## Summary \\n\"\n",
    "    full_markdown_text += f\"{c['summary']} \\n\\n\"\n",
    "    full_markdown_text += f\"## Script \\n\\n\"\n",
    "    full_markdown_text += f\"{c['script']} \\n\"\n",
    "    full_markdown_text += \"\\n\\n\""
   ]
  },
  {
   "cell_type": "code",
   "execution_count": null,
   "metadata": {},
   "outputs": [],
   "source": [
    "\n",
    "# Write markdown document for note.\n",
    "with open( \"markdown_note.md\", \"w\") as file:\n",
    "    file.write(full_markdown_text)"
   ]
  }
 ],
 "metadata": {
  "kernelspec": {
   "display_name": "venvAI",
   "language": "python",
   "name": "python3"
  },
  "language_info": {
   "codemirror_mode": {
    "name": "ipython",
    "version": 3
   },
   "file_extension": ".py",
   "mimetype": "text/x-python",
   "name": "python",
   "nbconvert_exporter": "python",
   "pygments_lexer": "ipython3",
   "version": "3.11.4"
  },
  "orig_nbformat": 4
 },
 "nbformat": 4,
 "nbformat_minor": 2
}
