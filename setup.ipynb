{
 "cells": [
  {
   "cell_type": "markdown",
   "metadata": {},
   "source": [
    "# Install dependencies"
   ]
  },
  {
   "cell_type": "code",
   "execution_count": null,
   "metadata": {},
   "outputs": [],
   "source": [
    "# Install libav and ffmpeg. \n",
    "! brew uninstall librist --ignore-dependencies\n",
    "! brew uninstall mbedtls --ignore-dependencies\n",
    "! brew reinstall ffmpeg\n",
    "\n",
    "\n",
    "# For linux (aptitude)\n",
    "# apt-get install libav-tools libavcodec-extra ffmpeg\n",
    "\n",
    "# install package \n",
    "! pip install -r requirements.txt"
   ]
  }
 ],
 "metadata": {
  "kernelspec": {
   "display_name": "venvAI",
   "language": "python",
   "name": "python3"
  },
  "language_info": {
   "codemirror_mode": {
    "name": "ipython",
    "version": 3
   },
   "file_extension": ".py",
   "mimetype": "text/x-python",
   "name": "python",
   "nbconvert_exporter": "python",
   "pygments_lexer": "ipython3",
   "version": "3.11.4"
  },
  "orig_nbformat": 4
 },
 "nbformat": 4,
 "nbformat_minor": 2
}
