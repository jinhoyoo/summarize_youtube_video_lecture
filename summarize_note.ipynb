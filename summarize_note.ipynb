{
 "cells": [
  {
   "attachments": {},
   "cell_type": "markdown",
   "metadata": {},
   "source": [
    "\n",
    "# Summarize lecture note\n",
    "- Summarize Youtube's script by chapter creater configured. \n",
    "  - Create `markdown_note.md` with script and summary.\n",
    "- Use [yt-dlp](https://pypi.org/project/yt-dlp/), [pydub](https://pypi.org/project/pydub/), [OpenAI-Whisper](https://pypi.org/project/openai-whisper/), [langchain](https://github.com/hwchase17/langchain), and [OpenAI](https://github.com/openai/openai-python) package. \n"
   ]
  },
  {
   "cell_type": "markdown",
   "metadata": {},
   "source": [
    "# Initialize system"
   ]
  },
  {
   "cell_type": "code",
   "execution_count": 1,
   "metadata": {},
   "outputs": [],
   "source": [
    "\n",
    "# Temporary save data into file \n",
    "import os \n",
    "import json \n",
    "\n",
    "script_by_chapter = {}\n",
    "with open(\"temp_script_by_chapter.json\", \"r\") as st_json:\n",
    "    script_by_chapter = json.load(st_json)"
   ]
  },
  {
   "attachments": {},
   "cell_type": "markdown",
   "metadata": {},
   "source": [
    "# Write note by summarizing contents\n"
   ]
  },
  {
   "cell_type": "code",
   "execution_count": 2,
   "metadata": {},
   "outputs": [
    {
     "name": "stdout",
     "output_type": "stream",
     "text": [
      "Chapter 윤석열은 도대체 왜 이러는 걸까? is processing..\n"
     ]
    },
    {
     "name": "stderr",
     "output_type": "stream",
     "text": [
      "Warning: model not found. Using cl100k_base encoding.\n",
      "Created a chunk of size 1136, which is longer than the specified 1000\n",
      "Created a chunk of size 2723, which is longer than the specified 1000\n"
     ]
    },
    {
     "name": "stdout",
     "output_type": "stream",
     "text": [
      "Chapter 나는 왜 유튜브를 하려고 하는가? 왜 하필 라이브(live)로. is processing..\n"
     ]
    },
    {
     "name": "stderr",
     "output_type": "stream",
     "text": [
      "Warning: model not found. Using cl100k_base encoding.\n",
      "Created a chunk of size 3054, which is longer than the specified 1000\n",
      "Created a chunk of size 2134, which is longer than the specified 1000\n"
     ]
    },
    {
     "name": "stdout",
     "output_type": "stream",
     "text": [
      "Chapter 냉철한 사랑, 즉 조직론적 사랑에 대하여 is processing..\n"
     ]
    },
    {
     "name": "stderr",
     "output_type": "stream",
     "text": [
      "Warning: model not found. Using cl100k_base encoding.\n",
      "Created a chunk of size 11619, which is longer than the specified 1000\n",
      "Created a chunk of size 8454, which is longer than the specified 1000\n",
      "Created a chunk of size 4110, which is longer than the specified 1000\n"
     ]
    },
    {
     "name": "stdout",
     "output_type": "stream",
     "text": [
      "Chapter 조직론적 사랑은 논문표절을 어떻게 처리할까? is processing..\n"
     ]
    },
    {
     "name": "stderr",
     "output_type": "stream",
     "text": [
      "Warning: model not found. Using cl100k_base encoding.\n"
     ]
    }
   ],
   "source": [
    "import os\n",
    "import llm\n",
    "from dotenv import load_dotenv\n",
    "from langchain.text_splitter import RecursiveCharacterTextSplitter\n",
    "\n",
    "# Setup OpenAI API key \n",
    "load_dotenv()\n",
    "\n",
    "# Prepare the file path for text\n",
    "text_file_folder_path = os.path.join( os.getcwd(), 'text')\n",
    "\n",
    "# Create temporary folder to store note\n",
    "note_file_folder_path = os.path.join( os.getcwd(), 'note')\n",
    "if not os.path.exists( note_file_folder_path ):\n",
    "    os.makedirs(note_file_folder_path) \n",
    "\n",
    "# Summarize each chapter\n",
    "for index, c in enumerate(script_by_chapter):\n",
    "    \n",
    "    # if there are note file, then skip it. \n",
    "    note_text_file = os.path.join(note_file_folder_path, f'{index}.txt')\n",
    "    if not os.path.exists(note_text_file):\n",
    "\n",
    "        # Read text data from file.\n",
    "        transcript = \"\"\n",
    "        with open( os.path.join(text_file_folder_path, f'{index}.txt'), \"r\" ) as file:\n",
    "            transcript = file.read()\n",
    "\n",
    "        # Log\n",
    "        title = c[\"title\"]\n",
    "        print( f\"Chapter {title} is processing..\")\n",
    "\n",
    "        # Replace transcript with rectified version. \n",
    "        c[\"script\"] = transcript\n",
    "\n",
    "\n",
    "        # Summarize the text \n",
    "        summarized_text = llm.summary_docs(transcript, chunk_size=1000, chunk_overlap=100)\n",
    "        c[\"summary\"] = summarized_text\n",
    "\n",
    "        # Save note into file\n",
    "        with open( note_text_file, \"w\") as file:\n",
    "            file.write(summarized_text)\n",
    "\n"
   ]
  },
  {
   "attachments": {},
   "cell_type": "markdown",
   "metadata": {},
   "source": [
    "## Publish markdown document\n",
    "\n",
    "Will write down all contents into `markdown_note.md`. This is the summarized note for this Youtube video. "
   ]
  },
  {
   "cell_type": "code",
   "execution_count": 3,
   "metadata": {},
   "outputs": [],
   "source": [
    "import os\n",
    "\n",
    "# Save chapter data into file \n",
    "with open( \"script_by_chapter.json\", \"w\") as file:\n",
    "    file.write( json.dumps(script_by_chapter, indent=2, ensure_ascii=False) )\n"
   ]
  },
  {
   "cell_type": "code",
   "execution_count": 4,
   "metadata": {},
   "outputs": [],
   "source": [
    "full_markdown_text = \"\"\n",
    "\n",
    "for c in script_by_chapter:\n",
    "    full_markdown_text += f\"# {c['title']} \\n\\n\"\n",
    "    full_markdown_text += f\"## Summary \\n\"\n",
    "    full_markdown_text += f\"{c['summary']} \\n\\n\"\n",
    "    full_markdown_text += f\"## Script \\n\\n\"\n",
    "    full_markdown_text += f\"{c['script']} \\n\"\n",
    "    full_markdown_text += \"\\n\\n\""
   ]
  },
  {
   "cell_type": "code",
   "execution_count": 5,
   "metadata": {},
   "outputs": [],
   "source": [
    "\n",
    "# Write markdown document for note.\n",
    "with open( \"markdown_note.md\", \"w\") as file:\n",
    "    file.write(full_markdown_text)"
   ]
  },
  {
   "cell_type": "code",
   "execution_count": 6,
   "metadata": {},
   "outputs": [],
   "source": [
    "# Remove temporary data\n",
    "# os.remove(\"temp_script_by_chapter.json\")\n",
    "os.remove(\"script_by_chapter.json\")"
   ]
  }
 ],
 "metadata": {
  "kernelspec": {
   "display_name": "venvAI",
   "language": "python",
   "name": "python3"
  },
  "language_info": {
   "codemirror_mode": {
    "name": "ipython",
    "version": 3
   },
   "file_extension": ".py",
   "mimetype": "text/x-python",
   "name": "python",
   "nbconvert_exporter": "python",
   "pygments_lexer": "ipython3",
   "version": "3.11.4"
  },
  "orig_nbformat": 4
 },
 "nbformat": 4,
 "nbformat_minor": 2
}
