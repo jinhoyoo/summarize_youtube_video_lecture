{
 "cells": [
  {
   "attachments": {},
   "cell_type": "markdown",
   "metadata": {},
   "source": [
    "\n",
    "# Summarize lecture note\n",
    "- Summarize Youtube's script by chapter creater configured. \n",
    "  - Create `markdown_note.md` with script and summary.\n",
    "- Use [yt-dlp](https://pypi.org/project/yt-dlp/), [pydub](https://pypi.org/project/pydub/), [OpenAI-Whisper](https://pypi.org/project/openai-whisper/), [langchain](https://github.com/hwchase17/langchain), and [OpenAI](https://github.com/openai/openai-python) package. \n"
   ]
  },
  {
   "cell_type": "markdown",
   "metadata": {},
   "source": [
    "# Initialize system"
   ]
  },
  {
   "cell_type": "code",
   "execution_count": 1,
   "metadata": {},
   "outputs": [],
   "source": [
    "\n",
    "# Temporary save data into file \n",
    "import os \n",
    "import json \n",
    "\n",
    "script_by_chapter = {}\n",
    "with open(\"temp_script_by_chapter.json\", \"r\") as st_json:\n",
    "    script_by_chapter = json.load(st_json)"
   ]
  },
  {
   "attachments": {},
   "cell_type": "markdown",
   "metadata": {},
   "source": [
    "# Write note by summarizing contents\n"
   ]
  },
  {
   "cell_type": "code",
   "execution_count": 2,
   "metadata": {},
   "outputs": [
    {
     "name": "stdout",
     "output_type": "stream",
     "text": [
      "Chapter 시작 is processing..\n"
     ]
    },
    {
     "name": "stderr",
     "output_type": "stream",
     "text": [
      "Created a chunk of size 1220, which is longer than the specified 1000\n",
      "Created a chunk of size 1395, which is longer than the specified 1000\n",
      "Created a chunk of size 1258, which is longer than the specified 1000\n",
      "Created a chunk of size 1319, which is longer than the specified 1000\n",
      "Created a chunk of size 1847, which is longer than the specified 1000\n",
      "Created a chunk of size 1266, which is longer than the specified 1000\n"
     ]
    },
    {
     "name": "stdout",
     "output_type": "stream",
     "text": [
      "Chapter 댓글 읽어보기: 강진구 기자에 대하여 is processing..\n",
      "Chapter 불합리한 것은 모두 억압하고 착취하기 위한 것이다: ‘그놈정신’을 갖자 is processing..\n"
     ]
    },
    {
     "name": "stderr",
     "output_type": "stream",
     "text": [
      "Created a chunk of size 1380, which is longer than the specified 1000\n",
      "Created a chunk of size 1074, which is longer than the specified 1000\n",
      "Created a chunk of size 1082, which is longer than the specified 1000\n",
      "Created a chunk of size 1595, which is longer than the specified 1000\n"
     ]
    },
    {
     "name": "stdout",
     "output_type": "stream",
     "text": [
      "Chapter 억압과 착취의 메커니즘과 국가경영의 지배구조 is processing..\n"
     ]
    },
    {
     "name": "stderr",
     "output_type": "stream",
     "text": [
      "Created a chunk of size 1140, which is longer than the specified 1000\n"
     ]
    },
    {
     "name": "stdout",
     "output_type": "stream",
     "text": [
      "Chapter 억압과 착취의 메커니즘: 뉴스타파 봉지욱 기자의 고발: 화천대유는 누구의 것 is processing..\n",
      "Chapter 우리의 현실과 민주당의 인식 is processing..\n",
      "Chapter 불합리한 기득권에 안주하고 있는 사람들: 문재인, 이낙연, 윤석열 is processing..\n"
     ]
    },
    {
     "name": "stderr",
     "output_type": "stream",
     "text": [
      "Created a chunk of size 1098, which is longer than the specified 1000\n",
      "Created a chunk of size 1102, which is longer than the specified 1000\n"
     ]
    },
    {
     "name": "stdout",
     "output_type": "stream",
     "text": [
      "Chapter 진리: 사실부합성과 인간부합성의 조건 is processing..\n",
      "Chapter 철학, 실력, 용기가 없으면 반드시 착취당하게 된다. is processing..\n",
      "Chapter 구체적이고도 시급한 치유방안 is processing..\n",
      "Chapter 억압과 착취의 구조 → 대화와 토론의 구조 is processing..\n"
     ]
    },
    {
     "name": "stderr",
     "output_type": "stream",
     "text": [
      "Created a chunk of size 1686, which is longer than the specified 1000\n"
     ]
    },
    {
     "name": "stdout",
     "output_type": "stream",
     "text": [
      "Chapter 장엄한 대전환을 위하여 ‘그놈정신’을 발휘하자 is processing..\n"
     ]
    },
    {
     "name": "stderr",
     "output_type": "stream",
     "text": [
      "Created a chunk of size 1054, which is longer than the specified 1000\n"
     ]
    },
    {
     "name": "stdout",
     "output_type": "stream",
     "text": [
      "Chapter 부탁의 말씀 is processing..\n",
      "Chapter 정리 is processing..\n"
     ]
    }
   ],
   "source": [
    "import os\n",
    "import llm\n",
    "from dotenv import load_dotenv\n",
    "from langchain.text_splitter import RecursiveCharacterTextSplitter\n",
    "\n",
    "# Setup OpenAI API key \n",
    "load_dotenv()\n",
    "\n",
    "# define text splitter\n",
    "chunk_size = 800\n",
    "text_splitter = RecursiveCharacterTextSplitter(\n",
    "    chunk_size = chunk_size,\n",
    "    chunk_overlap  = 0,\n",
    "    length_function = len\n",
    ")\n",
    "\n",
    "\n",
    "# Prepare the file path for text\n",
    "text_file_folder_path = os.path.join( os.getcwd(), 'text')\n",
    "\n",
    "# Create temporary folder to store note\n",
    "note_file_folder_path = os.path.join( os.getcwd(), 'note')\n",
    "if not os.path.exists( note_file_folder_path ):\n",
    "    os.makedirs(note_file_folder_path) \n",
    "\n",
    "\n",
    "# Summarize each chapter\n",
    "index = 0\n",
    "for index, c in enumerate(script_by_chapter):\n",
    "    \n",
    "    # if there are note file, then skip it. \n",
    "    note_text_file = os.path.join(note_file_folder_path, f'{index}.txt')\n",
    "    if os.path.exists(note_text_file):\n",
    "        break\n",
    "\n",
    "    transcript = \"\"\n",
    "    # Read text data from file.\n",
    "    with open( os.path.join(text_file_folder_path, f'{index}.txt'), \"r\" ) as file:\n",
    "        transcript = file.read()\n",
    "\n",
    "\n",
    "    # Log\n",
    "    title = c[\"title\"]\n",
    "    print( f\"Chapter {title} is processing..\")\n",
    "\n",
    "    # Replace transcript with rectified version. \n",
    "    c[\"script\"] = transcript\n",
    "\n",
    "\n",
    "    # Summarize the text \n",
    "    summarized_text = llm.summary_docs(transcript)\n",
    "    c[\"summary\"] = summarized_text\n",
    "\n",
    "    # Save note into file\n",
    "    with open( note_text_file, \"w\") as file:\n",
    "        file.write(summarized_text)\n",
    "\n"
   ]
  },
  {
   "attachments": {},
   "cell_type": "markdown",
   "metadata": {},
   "source": [
    "## Publish markdown document\n",
    "\n",
    "Will write down all contents into `markdown_note.md`. This is the summarized note for this Youtube video. "
   ]
  },
  {
   "cell_type": "code",
   "execution_count": 3,
   "metadata": {},
   "outputs": [],
   "source": [
    "import os\n",
    "\n",
    "# Save chapter data into file \n",
    "with open( \"script_by_chapter.json\", \"w\") as file:\n",
    "    file.write( json.dumps(script_by_chapter, indent=2, ensure_ascii=False) )\n"
   ]
  },
  {
   "cell_type": "code",
   "execution_count": 4,
   "metadata": {},
   "outputs": [],
   "source": [
    "full_markdown_text = \"\"\n",
    "\n",
    "for c in script_by_chapter:\n",
    "    full_markdown_text += f\"# {c['title']} \\n\\n\"\n",
    "    full_markdown_text += f\"## Summary \\n\"\n",
    "    full_markdown_text += f\"{c['summary']} \\n\\n\"\n",
    "    full_markdown_text += f\"## Script \\n\\n\"\n",
    "    full_markdown_text += f\"{c['script']} \\n\"\n",
    "    full_markdown_text += \"\\n\\n\""
   ]
  },
  {
   "cell_type": "code",
   "execution_count": 5,
   "metadata": {},
   "outputs": [],
   "source": [
    "\n",
    "# Write markdown document for note.\n",
    "with open( \"markdown_note.md\", \"w\") as file:\n",
    "    file.write(full_markdown_text)"
   ]
  },
  {
   "cell_type": "code",
   "execution_count": 6,
   "metadata": {},
   "outputs": [],
   "source": [
    "# Remove temporary data\n",
    "os.remove(\"temp_script_by_chapter.json\")\n",
    "os.remove(\"script_by_chapter.json\")"
   ]
  }
 ],
 "metadata": {
  "kernelspec": {
   "display_name": "venvAI",
   "language": "python",
   "name": "python3"
  },
  "language_info": {
   "codemirror_mode": {
    "name": "ipython",
    "version": 3
   },
   "file_extension": ".py",
   "mimetype": "text/x-python",
   "name": "python",
   "nbconvert_exporter": "python",
   "pygments_lexer": "ipython3",
   "version": "3.11.4"
  },
  "orig_nbformat": 4
 },
 "nbformat": 4,
 "nbformat_minor": 2
}
