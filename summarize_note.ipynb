{
 "cells": [
  {
   "attachments": {},
   "cell_type": "markdown",
   "metadata": {},
   "source": [
    "\n",
    "# Summarize lecture note\n",
    "- Summarize Youtube's script by chapter creater configured. \n",
    "  - Create `markdown_note.md` with script and summary.\n",
    "- Use [yt-dlp](https://pypi.org/project/yt-dlp/), [pydub](https://pypi.org/project/pydub/), [OpenAI-Whisper](https://pypi.org/project/openai-whisper/), [langchain](https://github.com/hwchase17/langchain), and [OpenAI](https://github.com/openai/openai-python) package. \n"
   ]
  },
  {
   "cell_type": "markdown",
   "metadata": {},
   "source": [
    "# Initialize system"
   ]
  },
  {
   "cell_type": "code",
   "execution_count": 1,
   "metadata": {},
   "outputs": [],
   "source": [
    "\n",
    "# Temporary save data into file \n",
    "import os \n",
    "import json \n",
    "\n",
    "script_by_chapter = {}\n",
    "with open(\"temp_script_by_chapter.json\", \"r\") as st_json:\n",
    "    script_by_chapter = json.load(st_json)"
   ]
  },
  {
   "attachments": {},
   "cell_type": "markdown",
   "metadata": {},
   "source": [
    "# Write note by summarizing contents\n"
   ]
  },
  {
   "cell_type": "code",
   "execution_count": 2,
   "metadata": {},
   "outputs": [
    {
     "name": "stdout",
     "output_type": "stream",
     "text": [
      "Chapter 시작 is processing..\n",
      "..\n",
      "\n",
      "Chapter 댓글 읽어보기 is processing..\n",
      "...............\n",
      "\n",
      "Chapter 조직을 어떻게 분석할 것인가? 인사조직론의 구조 is processing..\n",
      "...\n",
      "\n",
      "Chapter 앵글로색슨 모형의 피라미드형 계급구조 vs. 게르만 모형의 네트워크형 수평구조 is processing..\n",
      ".....\n",
      "\n",
      "Chapter 대전환의 의미: 이것이 개혁이다 is processing..\n",
      ".......\n",
      "\n",
      "Chapter 대의원제도의 폐해: 원내대표 박광온을 비롯한 수박들의 사고체계 is processing..\n",
      "................\n",
      "\n",
      "Chapter 경영플랫폼의 설계와 운용에서 가장 중요한 것은 무엇인가? is processing..\n",
      "..\n",
      "\n",
      "Chapter 이재명의 민주당의 비전은 무엇인가? 기본사회를 향하여 is processing..\n",
      ".\n",
      "\n",
      "Chapter 기본사회라는 비전은 어떻게 전략으로 전환되는가? is processing..\n",
      "........\n",
      "\n",
      "Chapter 부탁의 말씀 is processing..\n",
      ".........\n",
      "\n",
      "Chapter 전략이란 무엇인가? 이니셔티브들의 조합 is processing..\n",
      "..\n",
      "\n",
      "Chapter 전략의 실행은 철학, 실력, 용기를 필요로 하며 자율성을 위한 분권화를 말한다 is processing..\n",
      "........\n",
      "\n",
      "Chapter 촛불혁명의 정신을 생각하자 is processing..\n",
      ".\n",
      "\n",
      "Chapter 질서와 자유를 조화시켰던 독일의 지식인들과 조화의 사상가 조소앙의 삼균주의 is processing..\n",
      "....\n",
      "\n",
      "Chapter 정리 is processing..\n",
      ".\n",
      "\n"
     ]
    }
   ],
   "source": [
    "import os\n",
    "import llm\n",
    "from dotenv import load_dotenv\n",
    "from langchain.text_splitter import RecursiveCharacterTextSplitter\n",
    "\n",
    "# Setup OpenAI API key \n",
    "load_dotenv()\n",
    "\n",
    "# define text splitter\n",
    "chunk_size = 800\n",
    "text_splitter = RecursiveCharacterTextSplitter(\n",
    "    chunk_size = chunk_size,\n",
    "    chunk_overlap  = 0,\n",
    "    length_function = len\n",
    ")\n",
    "\n",
    "\n",
    "# Prepare the file path for text\n",
    "text_file_folder_path = os.path.join( os.getcwd(), 'text')\n",
    "\n",
    "# Create temporary folder to store note\n",
    "note_file_folder_path = os.path.join( os.getcwd(), 'note')\n",
    "if not os.path.exists( note_file_folder_path ):\n",
    "    os.makedirs(note_file_folder_path) \n",
    "\n",
    "\n",
    "# Summarize each chapter\n",
    "index = 0\n",
    "for index, c in enumerate(script_by_chapter):\n",
    "    \n",
    "    # if there are note file, then skip it. \n",
    "    note_text_file = os.path.join(note_file_folder_path, f'{index}.txt')\n",
    "    if os.path.exists(note_text_file):\n",
    "        break\n",
    "\n",
    "    transcript = \"\"\n",
    "    # Read text data from file.\n",
    "    with open( os.path.join(text_file_folder_path, f'{index}.txt'), \"r\" ) as file:\n",
    "        transcript = file.read()\n",
    "\n",
    "\n",
    "    # Log\n",
    "    title = c[\"title\"]\n",
    "    print( f\"Chapter {title} is processing..\")\n",
    "\n",
    "    # Replace transcript with rectified version. \n",
    "    c[\"script\"] = transcript\n",
    "\n",
    "\n",
    "    # Summarize the text \n",
    "    summarized_text = llm.summary_docs(transcript)\n",
    "    c[\"summary\"] = summarized_text\n",
    "\n",
    "    # Save note into file\n",
    "    with open( note_text_file, \"w\") as file:\n",
    "        file.write(summarized_text)\n",
    "    index += 1\n",
    "\n",
    "    print('\\n')\n",
    "\n"
   ]
  },
  {
   "attachments": {},
   "cell_type": "markdown",
   "metadata": {},
   "source": [
    "## Publish markdown document\n",
    "\n",
    "Will write down all contents into `markdown_note.md`. This is the summarized note for this Youtube video. "
   ]
  },
  {
   "cell_type": "code",
   "execution_count": 3,
   "metadata": {},
   "outputs": [],
   "source": [
    "import os\n",
    "\n",
    "# Remove temporary data\n",
    "os.remove(\"temp_script_by_chapter.json\")\n",
    "\n",
    "# Save chapter data into file \n",
    "with open( \"script_by_chapter.json\", \"w\") as file:\n",
    "    file.write( json.dumps(script_by_chapter, indent=2, ensure_ascii=False) )\n"
   ]
  },
  {
   "cell_type": "code",
   "execution_count": 4,
   "metadata": {},
   "outputs": [],
   "source": [
    "full_markdown_text = \"\"\n",
    "\n",
    "for c in script_by_chapter:\n",
    "    full_markdown_text += f\"# {c['title']} \\n\\n\"\n",
    "    full_markdown_text += f\"## Summary \\n\"\n",
    "    full_markdown_text += f\"{c['summary']} \\n\\n\"\n",
    "    full_markdown_text += f\"## Script \\n\\n\"\n",
    "    full_markdown_text += f\"{c['script']} \\n\"\n",
    "    full_markdown_text += \"\\n\\n\""
   ]
  },
  {
   "cell_type": "code",
   "execution_count": 5,
   "metadata": {},
   "outputs": [],
   "source": [
    "\n",
    "# Write markdown document for note.\n",
    "with open( \"markdown_note.md\", \"w\") as file:\n",
    "    file.write(full_markdown_text)"
   ]
  },
  {
   "cell_type": "code",
   "execution_count": 6,
   "metadata": {},
   "outputs": [],
   "source": [
    "# Remove temporary data\n",
    "os.remove(\"script_by_chapter.json\")"
   ]
  }
 ],
 "metadata": {
  "kernelspec": {
   "display_name": "venvAI",
   "language": "python",
   "name": "python3"
  },
  "language_info": {
   "codemirror_mode": {
    "name": "ipython",
    "version": 3
   },
   "file_extension": ".py",
   "mimetype": "text/x-python",
   "name": "python",
   "nbconvert_exporter": "python",
   "pygments_lexer": "ipython3",
   "version": "3.11.4"
  },
  "orig_nbformat": 4
 },
 "nbformat": 4,
 "nbformat_minor": 2
}
