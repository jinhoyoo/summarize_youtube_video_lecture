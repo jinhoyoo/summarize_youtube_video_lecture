{
 "cells": [
  {
   "attachments": {},
   "cell_type": "markdown",
   "metadata": {},
   "source": [
    "\n",
    "# Populate chapters of Youtube video\n"
   ]
  },
  {
   "cell_type": "code",
   "execution_count": 1,
   "metadata": {},
   "outputs": [],
   "source": [
    "youtube_video_id=\"PJhl54FrGyw\"\n",
    "language = \"ko\"\n",
    "\n",
    "# Officially no way to get chapter automatically, \n",
    "# so copy and pagese the time stamp and chapter in description of Youtube video. \n",
    "\n",
    "chapter_part_in_description = \"\"\"\n",
    "00:00 시작\n",
    "08:08 정책, 제도, 사람 중에서 가장 중요한 것은?\n",
    "15:56 사람에 대한 평가기준이 없는 사회에서 직무담당자(Träger)의 책임\n",
    "19:06 이 채널의 앞선 강의를 듣지 않으면 연속되는 강의를 이해하기 쉽지 않다\n",
    "29:04 인물에 대한 잘못된 평가기준: 신언서판(身言書判)\n",
    "38:26 인재평가의 프레임워크\n",
    "43:26 이낙연 현상이란 무엇인가?\n",
    "1:01:44 이낙연의 공직생활\n",
    "1:07:03 김수영 시인의 시 〈어느 날 고궁을 나오면서〉 (1965년 작품)\n",
    "1:10:23 민주진영의 왜 분노하는가? 〈마지막 지푸라기〉\n",
    "1:24:22 문재인 정부의 문재인, 이낙연, 노영민 등 3인의 태도\n",
    "1:40:36 민주시민이 이낙연 현상 때문에 민주당에 등을 돌렸다\n",
    "1:42:26 이재명, 추미애, 이낙연, 윤석열의 AMP지수\n",
    "1:49:01 정리\n",
    "\"\"\"\n",
    "\n"
   ]
  },
  {
   "cell_type": "code",
   "execution_count": 2,
   "metadata": {},
   "outputs": [],
   "source": [
    "# Officially no way to get chapter automatically, \n",
    "# so we need to parse the text in description and set up the dictionary \n",
    "# [ (time_in_sec, chapter_title) ]\n",
    "import re \n",
    "pattern = r'(\\d+(:\\d+){1,2})\\s(.+)'\n",
    "matches = re.findall(pattern, chapter_part_in_description)\n",
    "\n",
    "def time_to_seconds(time):\n",
    "    parts = time.split(':')\n",
    "    seconds = int(parts[-1])\n",
    "    minutes = int(parts[-2]) if len(parts) > 1 else 0\n",
    "    hours = int(parts[-3]) if len(parts) > 2 else 0\n",
    "    return hours * 3600 + minutes * 60 + seconds\n",
    "\n",
    "chapters = [(time_to_seconds(time), title.strip()) for time, _, title in matches]\n"
   ]
  },
  {
   "attachments": {},
   "cell_type": "markdown",
   "metadata": {},
   "source": [
    "# Build up note with chapter and script under each chapter "
   ]
  },
  {
   "cell_type": "code",
   "execution_count": 7,
   "metadata": {},
   "outputs": [],
   "source": [
    "import os\n",
    "from collections import deque\n",
    "from youtube_transcript_api import YouTubeTranscriptApi\n",
    "\n",
    "# Populate the script of YouTube video\n",
    "data = YouTubeTranscriptApi.get_transcripts([youtube_video_id], languages=[language])\n",
    "script_data = deque( data[0][youtube_video_id] )\n",
    "\n",
    "\n",
    "# Put the script under each chatpter\n",
    "# [ \n",
    "#   { \n",
    "#    \"title\": current_title,\n",
    "#    \"script\": script_in_chapter\n",
    "#    } ....\n",
    "#  ]\n",
    "\n",
    "script_by_chapter = []\n",
    "\n",
    "script_in_chapter = \"\"\n",
    "for i in range( len(chapters) ):\n",
    "    current_time_in_sec, current_title = chapters[i]\n",
    "    next_time_in_sec, next_title = chapters[i + 1] if i + 1 < len(chapters) else (None, None)\n",
    "\n",
    "\n",
    "    s = script_data.popleft()\n",
    "    end_time_of_script_in_sec = int( s['start'] + s['duration'] )\n",
    "\n",
    "    if next_time_in_sec is not None:\n",
    "        \n",
    "        while( end_time_of_script_in_sec < next_time_in_sec ):\n",
    "            script_in_chapter += s['text']\n",
    "            script_in_chapter += \" \"\n",
    "            s = script_data.popleft()\n",
    "            end_time_of_script_in_sec = int( s['start'] + s['duration'] )\n",
    "\n",
    "        chapter_data = { \n",
    "                        \"title\": current_title,\n",
    "                        \"script\": script_in_chapter\n",
    "                        }\n",
    "        \n",
    "        script_by_chapter.append(chapter_data)\n",
    "        script_in_chapter = \"\"        \n",
    "\n",
    "    else:\n",
    "        script_in_chapter = \"\"\n",
    "\n",
    "        while( len(script_data) > 0 ):\n",
    "            script_in_chapter += s['text']\n",
    "            script_in_chapter += \" \"\n",
    "            s = script_data.popleft()\n",
    "            end_time_of_script_in_sec = int( s['start'] + s['duration'] )\n",
    "\n",
    "        chapter_data = { \n",
    "                        \"title\": current_title,\n",
    "                        \"script\": script_in_chapter\n",
    "                        }\n",
    "        \n",
    "        script_by_chapter.append(chapter_data)\n",
    "\n"
   ]
  },
  {
   "cell_type": "code",
   "execution_count": 4,
   "metadata": {},
   "outputs": [],
   "source": [
    "\n",
    "# Temporary save data into file \n",
    "import os \n",
    "import json \n",
    "\n",
    "with open( \"temp_script_by_chapter.json\", \"w\") as file:\n",
    "    file.write( json.dumps(script_by_chapter, indent=2, ensure_ascii=False) )\n"
   ]
  },
  {
   "cell_type": "code",
   "execution_count": 5,
   "metadata": {},
   "outputs": [],
   "source": [
    "# Summarize "
   ]
  }
 ],
 "metadata": {
  "kernelspec": {
   "display_name": "venvAI",
   "language": "python",
   "name": "python3"
  },
  "language_info": {
   "codemirror_mode": {
    "name": "ipython",
    "version": 3
   },
   "file_extension": ".py",
   "mimetype": "text/x-python",
   "name": "python",
   "nbconvert_exporter": "python",
   "pygments_lexer": "ipython3",
   "version": "3.11.1"
  },
  "orig_nbformat": 4
 },
 "nbformat": 4,
 "nbformat_minor": 2
}
