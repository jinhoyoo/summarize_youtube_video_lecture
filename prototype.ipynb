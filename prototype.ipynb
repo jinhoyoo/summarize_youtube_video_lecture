{
 "cells": [
  {
   "attachments": {},
   "cell_type": "markdown",
   "metadata": {},
   "source": [
    "\n",
    "# Populate chapters of Youtube video\n"
   ]
  },
  {
   "cell_type": "code",
   "execution_count": 9,
   "metadata": {},
   "outputs": [],
   "source": [
    "youtube_video_id=\"KoQN29vi_0A\"\n",
    "language = \"ko\"\n",
    "\n",
    "# Officially no way to get chapter automatically, \n",
    "# so copy and pagese the time stamp and chapter in description of Youtube video. \n",
    "\n",
    "chapter_part_in_description = \"\"\"\n",
    "00:00 시작\n",
    "12:56 댓글 읽어보기\n",
    "25:51 김건희와 윤석열의 의식\n",
    "47:07 《성취예측모형》 프레임워크와 학습능력: 김건희와 정명훈의 경우\n",
    "1:08:23 〈DANO 경영 플랫폼〉으로 본 윤석열: 비전, 전략, 조직\n",
    "1:38:32 《성취예측모형》으로 본 윤석열: 한국적 무속의 특징과 콤플렉스\n",
    "1:49:32 문명사에 대한 이해가 중요한 이유: 무당에 빠진 인간들을 더 계몽해야 한다\n",
    "1:52:11 APM 지수가 우리에게 말해주는 것\n",
    "1:52:57 그리고 우리가 반드시 알아야 할 것들\n",
    "1:58:02 정리\n",
    "\"\"\""
   ]
  },
  {
   "cell_type": "code",
   "execution_count": 10,
   "metadata": {},
   "outputs": [],
   "source": [
    "# Officially no way to get chapter automatically, \n",
    "# so we need to parse the text in description and set up the dictionary \n",
    "# [ (time_in_sec, chapter_title) ]\n",
    "import re \n",
    "pattern = r'(\\d+(:\\d+){1,2})\\s(.+)'\n",
    "matches = re.findall(pattern, chapter_part_in_description)\n",
    "\n",
    "def time_to_seconds(time):\n",
    "    parts = time.split(':')\n",
    "    seconds = int(parts[-1])\n",
    "    minutes = int(parts[-2]) if len(parts) > 1 else 0\n",
    "    hours = int(parts[-3]) if len(parts) > 2 else 0\n",
    "    return hours * 3600 + minutes * 60 + seconds\n",
    "\n",
    "chapters = [(time_to_seconds(time), title.strip()) for time, _, title in matches]\n"
   ]
  },
  {
   "attachments": {},
   "cell_type": "markdown",
   "metadata": {},
   "source": [
    "# Build up note with chapter and script under each chapter "
   ]
  },
  {
   "cell_type": "code",
   "execution_count": 13,
   "metadata": {},
   "outputs": [],
   "source": [
    "from collections import deque\n",
    "from youtube_transcript_api import YouTubeTranscriptApi\n",
    "\n",
    "# Populate the script of YouTube video\n",
    "data = YouTubeTranscriptApi.get_transcripts([youtube_video_id], languages=[language])\n",
    "script_data = deque( data[0][youtube_video_id] )\n",
    "\n",
    "\n",
    "# Put the script under each chatpter\n",
    "# [ \n",
    "#   { \n",
    "#    \"title\": current_title,\n",
    "#    \"script\": script_in_chapter\n",
    "#    } ....\n",
    "#  ]\n",
    "\n",
    "script_by_chapter = []\n",
    "\n",
    "script_in_chapter = \"\"\n",
    "for i in range( len(chapters) ):\n",
    "    current_time_in_sec, current_title = chapters[i]\n",
    "    next_time_in_sec, next_title = chapters[i + 1] if i + 1 < len(chapters) else (None, None)\n",
    "\n",
    "    if len(script_data) == 0:\n",
    "        break\n",
    "\n",
    "    s = script_data.popleft()\n",
    "    end_time_of_script_in_sec = int( s['start'] + s['duration'] )\n",
    "\n",
    "    if next_time_in_sec is not None:\n",
    "        \n",
    "        while end_time_of_script_in_sec < next_time_in_sec:\n",
    "            script_in_chapter += s['text']\n",
    "            script_in_chapter += \" \"\n",
    "            s = script_data.popleft()\n",
    "            end_time_of_script_in_sec = int( s['start'] + s['duration'] )\n",
    "\n",
    "        chapter_data = { \n",
    "                        \"title\": current_title,\n",
    "                        \"script\": script_in_chapter\n",
    "                        }\n",
    "        \n",
    "        script_by_chapter.append(chapter_data)\n",
    "        script_in_chapter = \"\"        \n",
    "\n",
    "    else:\n",
    "        script_in_chapter = \"\"\n",
    "\n",
    "        while len(script_data) > 0 :\n",
    "            script_in_chapter += s['text']\n",
    "            script_in_chapter += \" \"\n",
    "            s = script_data.popleft()\n",
    "            end_time_of_script_in_sec = int( s['start'] + s['duration'] )\n",
    "\n",
    "        chapter_data = { \n",
    "                        \"title\": current_title,\n",
    "                        \"script\": script_in_chapter,\n",
    "                        \"summary\" : \"\"\n",
    "                        }\n",
    "        \n",
    "        script_by_chapter.append(chapter_data)\n",
    "\n"
   ]
  },
  {
   "cell_type": "code",
   "execution_count": 14,
   "metadata": {},
   "outputs": [],
   "source": [
    "\n",
    "# Temporary save data into file \n",
    "import os \n",
    "import json \n",
    "\n",
    "with open( \"temp_script_by_chapter.json\", \"w\") as file:\n",
    "    file.write( json.dumps(script_by_chapter, indent=2, ensure_ascii=False) )\n"
   ]
  },
  {
   "attachments": {},
   "cell_type": "markdown",
   "metadata": {},
   "source": [
    "# Write note by summarizing contents\n"
   ]
  },
  {
   "cell_type": "code",
   "execution_count": 15,
   "metadata": {},
   "outputs": [
    {
     "data": {
      "text/plain": [
       "True"
      ]
     },
     "execution_count": 15,
     "metadata": {},
     "output_type": "execute_result"
    }
   ],
   "source": [
    "# Setup OpenAI API key \n",
    "from dotenv import load_dotenv\n",
    "\n",
    "load_dotenv()"
   ]
  },
  {
   "cell_type": "code",
   "execution_count": 16,
   "metadata": {},
   "outputs": [],
   "source": [
    "import openai\n",
    "\n",
    "def summarize_text_with_gpt3(text):\n",
    "    prompt = f\"Summarize following text with bulletin points in Korean:\\n{text}\"\n",
    "    response = openai.ChatCompletion.create(\n",
    "        model=\"gpt-3.5-turbo\",\n",
    "        messages=[\n",
    "            {\"role\": \"system\", \"content\": \"You are a helpful assistant.\"},\n",
    "            {\"role\": \"user\", \"content\": prompt}\n",
    "        ],\n",
    "        max_tokens=3000\n",
    "    )\n",
    "\n",
    "    corrected_text = response.choices[0].message.content\n",
    "    return corrected_text"
   ]
  },
  {
   "cell_type": "code",
   "execution_count": 17,
   "metadata": {},
   "outputs": [],
   "source": [
    "\n",
    "from langchain.text_splitter import RecursiveCharacterTextSplitter\n",
    "\n",
    "text_splitter = RecursiveCharacterTextSplitter(\n",
    "    chunk_size = 600,\n",
    "    chunk_overlap  = 20,\n",
    "    length_function = len\n",
    ")\n"
   ]
  },
  {
   "cell_type": "code",
   "execution_count": 18,
   "metadata": {},
   "outputs": [
    {
     "name": "stdout",
     "output_type": "stream",
     "text": [
      "Chapter 시작 is in-pro. \n",
      ".......\n",
      "\n",
      "Chapter 댓글 읽어보기 is in-pro. \n",
      "........\n",
      "\n",
      "Chapter 김건희와 윤석열의 의식 is in-pro. \n",
      ".............\n",
      "\n",
      "Chapter 《성취예측모형》 프레임워크와 학습능력: 김건희와 정명훈의 경우 is in-pro. \n",
      "............\n",
      "\n",
      "Chapter 〈DANO 경영 플랫폼〉으로 본 윤석열: 비전, 전략, 조직 is in-pro. \n",
      "..................\n",
      "\n",
      "Chapter 《성취예측모형》으로 본 윤석열: 한국적 무속의 특징과 콤플렉스 is in-pro. \n",
      "........\n",
      "\n",
      "Chapter 문명사에 대한 이해가 중요한 이유: 무당에 빠진 인간들을 더 계몽해야 한다 is in-pro. \n",
      "..\n",
      "\n",
      "Chapter APM 지수가 우리에게 말해주는 것 is in-pro. \n",
      ".\n",
      "\n",
      "Chapter 그리고 우리가 반드시 알아야 할 것들 is in-pro. \n",
      "....\n",
      "\n"
     ]
    }
   ],
   "source": [
    "import time\n",
    "\n",
    "# Summarize each chapter \n",
    "for c in script_by_chapter:\n",
    "    texts = text_splitter.split_text(c[\"script\"])\n",
    "\n",
    "    title = c[\"title\"]\n",
    "    print( f\"Chapter {title} is in-pro. \")\n",
    "    \n",
    "    summarized_text = \"\"\n",
    "    for t in texts:\n",
    "        time.sleep(0.01) # Avoid the bad request error. \n",
    "        partial_summary = summarize_text_with_gpt3(t)\n",
    "        summarized_text += partial_summary\n",
    "        print( \".\", end=\"\")\n",
    "\n",
    "    c[\"summary\"] = summarized_text\n",
    "    print('\\n')\n",
    "    time.sleep(0.5) # Avoid the bad request error. \n"
   ]
  },
  {
   "attachments": {},
   "cell_type": "markdown",
   "metadata": {},
   "source": [
    "## Print it formmated text"
   ]
  },
  {
   "cell_type": "code",
   "execution_count": 19,
   "metadata": {},
   "outputs": [],
   "source": [
    "with open( \"script_by_chapter.json\", \"w\") as file:\n",
    "    file.write( json.dumps(script_by_chapter, indent=2, ensure_ascii=False) )\n"
   ]
  },
  {
   "cell_type": "code",
   "execution_count": 20,
   "metadata": {},
   "outputs": [],
   "source": [
    "full_markdown_text = \"\"\n",
    "\n",
    "\n",
    "for c in script_by_chapter:\n",
    "    full_markdown_text += f\"# {c['title']} \\n\\n\"\n",
    "    full_markdown_text += f\"## Summary \\n\"\n",
    "    full_markdown_text += f\"{c['summary']} \\n\\n\"\n",
    "    full_markdown_text += f\"## Script \\n\\n\"\n",
    "    full_markdown_text += f\"{c['script']} \\n\"\n",
    "    full_markdown_text += \"\\n\\n\"\n",
    "\n"
   ]
  },
  {
   "cell_type": "code",
   "execution_count": 23,
   "metadata": {},
   "outputs": [],
   "source": [
    "from IPython.core.display import display_markdown\n",
    "\n",
    "display_markdown(full_markdown_text)"
   ]
  },
  {
   "cell_type": "code",
   "execution_count": 22,
   "metadata": {},
   "outputs": [],
   "source": [
    "\n",
    "with open( \"markdown_note.md\", \"w\") as file:\n",
    "    file.write(full_markdown_text)"
   ]
  }
 ],
 "metadata": {
  "kernelspec": {
   "display_name": "venvAI",
   "language": "python",
   "name": "python3"
  },
  "language_info": {
   "codemirror_mode": {
    "name": "ipython",
    "version": 3
   },
   "file_extension": ".py",
   "mimetype": "text/x-python",
   "name": "python",
   "nbconvert_exporter": "python",
   "pygments_lexer": "ipython3",
   "version": "3.11.1"
  },
  "orig_nbformat": 4
 },
 "nbformat": 4,
 "nbformat_minor": 2
}
